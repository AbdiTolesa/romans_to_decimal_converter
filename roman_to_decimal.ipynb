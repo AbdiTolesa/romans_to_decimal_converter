{
 "cells": [
  {
   "cell_type": "code",
   "execution_count": 5,
   "id": "8529434f-8e4f-4c3e-b2a7-924bfb6c4978",
   "metadata": {},
   "outputs": [
    {
     "name": "stdout",
     "output_type": "stream",
     "text": [
      "3986\n",
      "4000\n",
      "9\n"
     ]
    }
   ],
   "source": [
    "class my_python_tool_set:\n",
    "    def roman_to_int(self, s):\n",
    "        romans_int = {'I': 1, 'V': 5, 'X': 10, 'L': 50, 'C': 100, 'D': 500, 'M': 1000}\n",
    "        int_val = 0\n",
    "        for i in range(len(s)):\n",
    "            if i > 0 and romans_int[s[i]] > romans_int[s[i - 1]]:\n",
    "                int_val += romans_int[s[i]] - 2 * romans_int[s[i - 1]]\n",
    "            else:\n",
    "                int_val += romans_int[s[i]]\n",
    "        return int_val\n",
    "\n",
    "print(my_python_tool_set().roman_to_int('MMMCMLXXXVI'))\n",
    "print(my_python_tool_set().roman_to_int('MMMM'))\n",
    "print(my_python_tool_set().roman_to_int('IX'))"
   ]
  },
  {
   "cell_type": "code",
   "execution_count": null,
   "id": "c58b49d0-0ca6-4c5e-a948-1369d0289e32",
   "metadata": {},
   "outputs": [],
   "source": []
  }
 ],
 "metadata": {
  "kernelspec": {
   "display_name": "Python 3 (ipykernel)",
   "language": "python",
   "name": "python3"
  },
  "language_info": {
   "codemirror_mode": {
    "name": "ipython",
    "version": 3
   },
   "file_extension": ".py",
   "mimetype": "text/x-python",
   "name": "python",
   "nbconvert_exporter": "python",
   "pygments_lexer": "ipython3",
   "version": "3.9.5"
  }
 },
 "nbformat": 4,
 "nbformat_minor": 5
}
